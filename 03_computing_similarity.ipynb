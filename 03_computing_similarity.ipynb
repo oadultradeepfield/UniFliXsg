{
 "cells": [
  {
   "cell_type": "code",
   "execution_count": 24,
   "metadata": {},
   "outputs": [],
   "source": [
    "import numpy as np\n",
    "import polars as pl\n",
    "\n",
    "from sklearn.metrics.pairwise import cosine_similarity\n",
    "from sentence_transformers import SentenceTransformer"
   ]
  },
  {
   "cell_type": "code",
   "execution_count": 25,
   "metadata": {},
   "outputs": [],
   "source": [
    "df = pl.scan_parquet('data/processed/embedded_university_and_progam.parquet')"
   ]
  },
  {
   "cell_type": "code",
   "execution_count": 26,
   "metadata": {},
   "outputs": [],
   "source": [
    "model_name = 'all-MiniLM-L6-v2'\n",
    "model = SentenceTransformer(model_name)"
   ]
  },
  {
   "cell_type": "code",
   "execution_count": 27,
   "metadata": {},
   "outputs": [],
   "source": [
    "def return_search_results(query_personal_interest: str, \n",
    "                          query_career_prospect: str, \n",
    "                          df: pl.LazyFrame, \n",
    "                          model) -> list:\n",
    "    query = f'I am interested in {query_personal_interest}. Upon graduation, I want to work as {query_career_prospect}'\n",
    "    embedded_query = model.encode(query).reshape(1, -1)\n",
    "     \n",
    "    embeddings_university = df.select(pl.nth(range(4, 388))).collect()\n",
    "    embeddings_program = df.select(pl.nth(range(388, 772))).collect()\n",
    "    embeddings_career = df.select(pl.nth(range(772, 1156))).collect()\n",
    "    \n",
    "    similarity_university = cosine_similarity(embeddings_university, embedded_query)\n",
    "    similarity_program = cosine_similarity(embeddings_program, embedded_query)\n",
    "    similarity_career = cosine_similarity(embeddings_career, embedded_query)\n",
    "    mean_similarity = (similarity_university + 2 * similarity_program + 2 * similarity_career) / 5\n",
    "    \n",
    "    number_of_recommendations = 7\n",
    "    index_sorted = np.argsort(-mean_similarity, axis=0).flatten()\n",
    "    index_result = index_sorted[:number_of_recommendations]\n",
    "    \n",
    "    program_names = df.select('program').collect().to_series(0).to_list()\n",
    "    selected_programs = [program_names[i] for i in index_result]\n",
    "    \n",
    "    return selected_programs"
   ]
  },
  {
   "cell_type": "code",
   "execution_count": 28,
   "metadata": {},
   "outputs": [
    {
     "name": "stdout",
     "output_type": "stream",
     "text": [
      "1. Bachelor of Science (Physics) at National University of Singapore (NUS) \n",
      "2. Bachelor of Science (Mathematical Sciences) at Nanyang Technological University (NTU) \n",
      "3. Bachelor of Computing (Computer Science) at National University of Singapore (NUS) \n",
      "4. Bachelor of Computing (Data Science and Artificial Intelligence) at Nanyang Technological University (NTU) \n",
      "5. Bachelor of Science (Applied Physics) at Nanyang Technological University (NTU) \n",
      "6. Bachelor of Engineering (Engineering Science) at National University of Singapore (NUS) \n",
      "7. Bachelor of Engineering (Bioengineering) at Nanyang Technological University (NTU) \n"
     ]
    }
   ],
   "source": [
    "query_personal_interest = \"Astronomy, Astrophysics, Quantum Mechanics, Coding, Data Analysis\"\n",
    "query_career_prospect = \"Astronomer, Astrophysicist, Researcher, Data Scientist\"\n",
    "\n",
    "result = return_search_results(query_personal_interest, query_career_prospect, df, model)\n",
    "\n",
    "for number, program in enumerate(result):\n",
    "    print(f'{number + 1}. {program}')"
   ]
  }
 ],
 "metadata": {
  "kernelspec": {
   "display_name": "Python 3",
   "language": "python",
   "name": "python3"
  },
  "language_info": {
   "codemirror_mode": {
    "name": "ipython",
    "version": 3
   },
   "file_extension": ".py",
   "mimetype": "text/x-python",
   "name": "python",
   "nbconvert_exporter": "python",
   "pygments_lexer": "ipython3",
   "version": "3.11.9"
  }
 },
 "nbformat": 4,
 "nbformat_minor": 2
}
