{
 "cells": [
  {
   "cell_type": "code",
   "execution_count": 1,
   "metadata": {},
   "outputs": [],
   "source": [
    "import polars as pl\n",
    "\n",
    "from sentence_transformers import SentenceTransformer"
   ]
  },
  {
   "cell_type": "code",
   "execution_count": 2,
   "metadata": {},
   "outputs": [],
   "source": [
    "df = pl.read_parquet('data/processed/university_and_program.parquet')"
   ]
  },
  {
   "cell_type": "code",
   "execution_count": 3,
   "metadata": {},
   "outputs": [
    {
     "data": {
      "text/html": [
       "<div><style>\n",
       ".dataframe > thead > tr,\n",
       ".dataframe > tbody > tr {\n",
       "  text-align: right;\n",
       "  white-space: pre-wrap;\n",
       "}\n",
       "</style>\n",
       "<small>shape: (5, 4)</small><table border=\"1\" class=\"dataframe\"><thead><tr><th>program</th><th>university_description</th><th>program_description</th><th>career_prospect</th></tr><tr><td>str</td><td>str</td><td>str</td><td>str</td></tr></thead><tbody><tr><td>&quot;Bachelor of Science (Architect…</td><td>&quot;We redefine design, education …</td><td>&quot;The Undergraduate programme co…</td><td>&quot;Architecture, Urban design, Ci…</td></tr><tr><td>&quot;Bachelor of Engineering (Compu…</td><td>&quot;We redefine design, education …</td><td>&quot;Lead a successful professional…</td><td>&quot;Cybersecurity specialist/analy…</td></tr><tr><td>&quot;Bachelor of Science (Design an…</td><td>&quot;We redefine design, education …</td><td>&quot;Design Innovator, Innovation S…</td><td>&quot;Applied machine learning engin…</td></tr><tr><td>&quot;Bachelor of Engineering (Engin…</td><td>&quot;We redefine design, education …</td><td>&quot;EPD graduates are prepared for…</td><td>&quot;Design engineer, Management co…</td></tr><tr><td>&quot;Bachelor of Engineering (Engin…</td><td>&quot;We redefine design, education …</td><td>&quot;How do you decide what company…</td><td>&quot;Aviation analyst, Corporate pl…</td></tr></tbody></table></div>"
      ],
      "text/plain": [
       "shape: (5, 4)\n",
       "┌────────────────────────┬────────────────────────┬────────────────────────┬───────────────────────┐\n",
       "│ program                ┆ university_description ┆ program_description    ┆ career_prospect       │\n",
       "│ ---                    ┆ ---                    ┆ ---                    ┆ ---                   │\n",
       "│ str                    ┆ str                    ┆ str                    ┆ str                   │\n",
       "╞════════════════════════╪════════════════════════╪════════════════════════╪═══════════════════════╡\n",
       "│ Bachelor of Science    ┆ We redefine design,    ┆ The Undergraduate      ┆ Architecture, Urban   │\n",
       "│ (Architect…            ┆ education …            ┆ programme co…          ┆ design, Ci…           │\n",
       "│ Bachelor of            ┆ We redefine design,    ┆ Lead a successful      ┆ Cybersecurity         │\n",
       "│ Engineering (Compu…    ┆ education …            ┆ professional…          ┆ specialist/analy…     │\n",
       "│ Bachelor of Science    ┆ We redefine design,    ┆ Design Innovator,      ┆ Applied machine       │\n",
       "│ (Design an…            ┆ education …            ┆ Innovation S…          ┆ learning engin…       │\n",
       "│ Bachelor of            ┆ We redefine design,    ┆ EPD graduates are      ┆ Design engineer,      │\n",
       "│ Engineering (Engin…    ┆ education …            ┆ prepared for…          ┆ Management co…        │\n",
       "│ Bachelor of            ┆ We redefine design,    ┆ How do you decide what ┆ Aviation analyst,     │\n",
       "│ Engineering (Engin…    ┆ education …            ┆ company…               ┆ Corporate pl…         │\n",
       "└────────────────────────┴────────────────────────┴────────────────────────┴───────────────────────┘"
      ]
     },
     "execution_count": 3,
     "metadata": {},
     "output_type": "execute_result"
    }
   ],
   "source": [
    "df.head()"
   ]
  },
  {
   "cell_type": "code",
   "execution_count": 4,
   "metadata": {},
   "outputs": [],
   "source": [
    "columns_to_embed = ['university_description', 'program_description', 'career_prospect']\n",
    "model_name = 'all-MiniLM-L6-v2'"
   ]
  },
  {
   "cell_type": "code",
   "execution_count": 5,
   "metadata": {},
   "outputs": [],
   "source": [
    "model = SentenceTransformer(model_name)\n",
    "\n",
    "for column in columns_to_embed:\n",
    "    embedding_array = model.encode(df[column].to_list())\n",
    "    embedding_column_names = {column + '_embeded_' + str(i): float for i  in range(embedding_array.shape[1])}\n",
    "    df_embedded = pl.DataFrame(embedding_array, schema=embedding_column_names)\n",
    "    df = pl.concat([df, df_embedded], how='horizontal')"
   ]
  },
  {
   "cell_type": "code",
   "execution_count": 6,
   "metadata": {},
   "outputs": [
    {
     "data": {
      "text/html": [
       "<div><style>\n",
       ".dataframe > thead > tr,\n",
       ".dataframe > tbody > tr {\n",
       "  text-align: right;\n",
       "  white-space: pre-wrap;\n",
       "}\n",
       "</style>\n",
       "<small>shape: (10, 1_156)</small><table border=\"1\" class=\"dataframe\"><thead><tr><th>program</th><th>university_description</th><th>program_description</th><th>career_prospect</th><th>university_description_embeded_0</th><th>university_description_embeded_1</th><th>university_description_embeded_2</th><th>university_description_embeded_3</th><th>university_description_embeded_4</th><th>university_description_embeded_5</th><th>university_description_embeded_6</th><th>university_description_embeded_7</th><th>university_description_embeded_8</th><th>university_description_embeded_9</th><th>university_description_embeded_10</th><th>university_description_embeded_11</th><th>university_description_embeded_12</th><th>university_description_embeded_13</th><th>university_description_embeded_14</th><th>university_description_embeded_15</th><th>university_description_embeded_16</th><th>university_description_embeded_17</th><th>university_description_embeded_18</th><th>university_description_embeded_19</th><th>university_description_embeded_20</th><th>university_description_embeded_21</th><th>university_description_embeded_22</th><th>university_description_embeded_23</th><th>university_description_embeded_24</th><th>university_description_embeded_25</th><th>university_description_embeded_26</th><th>university_description_embeded_27</th><th>university_description_embeded_28</th><th>university_description_embeded_29</th><th>university_description_embeded_30</th><th>university_description_embeded_31</th><th>university_description_embeded_32</th><th>&hellip;</th><th>career_prospect_embeded_347</th><th>career_prospect_embeded_348</th><th>career_prospect_embeded_349</th><th>career_prospect_embeded_350</th><th>career_prospect_embeded_351</th><th>career_prospect_embeded_352</th><th>career_prospect_embeded_353</th><th>career_prospect_embeded_354</th><th>career_prospect_embeded_355</th><th>career_prospect_embeded_356</th><th>career_prospect_embeded_357</th><th>career_prospect_embeded_358</th><th>career_prospect_embeded_359</th><th>career_prospect_embeded_360</th><th>career_prospect_embeded_361</th><th>career_prospect_embeded_362</th><th>career_prospect_embeded_363</th><th>career_prospect_embeded_364</th><th>career_prospect_embeded_365</th><th>career_prospect_embeded_366</th><th>career_prospect_embeded_367</th><th>career_prospect_embeded_368</th><th>career_prospect_embeded_369</th><th>career_prospect_embeded_370</th><th>career_prospect_embeded_371</th><th>career_prospect_embeded_372</th><th>career_prospect_embeded_373</th><th>career_prospect_embeded_374</th><th>career_prospect_embeded_375</th><th>career_prospect_embeded_376</th><th>career_prospect_embeded_377</th><th>career_prospect_embeded_378</th><th>career_prospect_embeded_379</th><th>career_prospect_embeded_380</th><th>career_prospect_embeded_381</th><th>career_prospect_embeded_382</th><th>career_prospect_embeded_383</th></tr><tr><td>str</td><td>str</td><td>str</td><td>str</td><td>f64</td><td>f64</td><td>f64</td><td>f64</td><td>f64</td><td>f64</td><td>f64</td><td>f64</td><td>f64</td><td>f64</td><td>f64</td><td>f64</td><td>f64</td><td>f64</td><td>f64</td><td>f64</td><td>f64</td><td>f64</td><td>f64</td><td>f64</td><td>f64</td><td>f64</td><td>f64</td><td>f64</td><td>f64</td><td>f64</td><td>f64</td><td>f64</td><td>f64</td><td>f64</td><td>f64</td><td>f64</td><td>f64</td><td>&hellip;</td><td>f64</td><td>f64</td><td>f64</td><td>f64</td><td>f64</td><td>f64</td><td>f64</td><td>f64</td><td>f64</td><td>f64</td><td>f64</td><td>f64</td><td>f64</td><td>f64</td><td>f64</td><td>f64</td><td>f64</td><td>f64</td><td>f64</td><td>f64</td><td>f64</td><td>f64</td><td>f64</td><td>f64</td><td>f64</td><td>f64</td><td>f64</td><td>f64</td><td>f64</td><td>f64</td><td>f64</td><td>f64</td><td>f64</td><td>f64</td><td>f64</td><td>f64</td><td>f64</td></tr></thead><tbody><tr><td>&quot;Bachelor of Science (Architect…</td><td>&quot;We redefine design, education …</td><td>&quot;The Undergraduate programme co…</td><td>&quot;Architecture, Urban design, Ci…</td><td>0.008688</td><td>0.073831</td><td>-0.001575</td><td>-0.019872</td><td>0.072993</td><td>-0.020747</td><td>-0.047765</td><td>0.055445</td><td>0.039928</td><td>0.026293</td><td>-0.038317</td><td>0.061855</td><td>0.03594</td><td>0.058757</td><td>-0.019072</td><td>-0.007374</td><td>-0.070987</td><td>0.046221</td><td>-0.091606</td><td>-0.016127</td><td>-0.057109</td><td>-0.007607</td><td>0.04641</td><td>0.015605</td><td>-0.046362</td><td>-0.002131</td><td>-0.013758</td><td>-0.08543</td><td>-0.019007</td><td>-0.101654</td><td>0.020909</td><td>-0.005497</td><td>0.073397</td><td>&hellip;</td><td>-0.079741</td><td>-0.008681</td><td>0.069377</td><td>0.012784</td><td>-0.010443</td><td>0.017876</td><td>-0.036119</td><td>0.053104</td><td>0.019172</td><td>0.074196</td><td>-0.023345</td><td>0.004224</td><td>-0.092691</td><td>0.016044</td><td>-0.032889</td><td>-0.033977</td><td>0.030128</td><td>0.054265</td><td>-0.016162</td><td>-0.012371</td><td>0.006621</td><td>0.006457</td><td>-0.013931</td><td>-0.073886</td><td>0.037537</td><td>-0.060127</td><td>-0.017035</td><td>0.068026</td><td>0.054099</td><td>0.005551</td><td>-0.055582</td><td>0.029859</td><td>-0.057839</td><td>0.091465</td><td>0.040404</td><td>-0.01252</td><td>0.078221</td></tr><tr><td>&quot;Bachelor of Engineering (Compu…</td><td>&quot;We redefine design, education …</td><td>&quot;Lead a successful professional…</td><td>&quot;Cybersecurity specialist/analy…</td><td>0.008688</td><td>0.073831</td><td>-0.001575</td><td>-0.019872</td><td>0.072993</td><td>-0.020747</td><td>-0.047765</td><td>0.055445</td><td>0.039928</td><td>0.026293</td><td>-0.038317</td><td>0.061855</td><td>0.03594</td><td>0.058757</td><td>-0.019072</td><td>-0.007374</td><td>-0.070987</td><td>0.046221</td><td>-0.091606</td><td>-0.016127</td><td>-0.057109</td><td>-0.007607</td><td>0.04641</td><td>0.015605</td><td>-0.046362</td><td>-0.002131</td><td>-0.013758</td><td>-0.08543</td><td>-0.019007</td><td>-0.101654</td><td>0.020909</td><td>-0.005497</td><td>0.073397</td><td>&hellip;</td><td>-0.071923</td><td>-0.026316</td><td>0.072887</td><td>-0.020698</td><td>-0.061888</td><td>0.048688</td><td>-0.016318</td><td>0.02967</td><td>0.028149</td><td>0.107787</td><td>-0.047017</td><td>-0.028653</td><td>0.059707</td><td>-0.094057</td><td>-0.023785</td><td>0.041886</td><td>0.046752</td><td>-0.069108</td><td>-0.033387</td><td>-0.031287</td><td>0.037114</td><td>0.022429</td><td>-0.063337</td><td>0.008218</td><td>0.036098</td><td>-0.068581</td><td>0.022539</td><td>0.034216</td><td>0.008065</td><td>0.026768</td><td>-0.05658</td><td>-0.028531</td><td>0.075277</td><td>0.000391</td><td>-0.078492</td><td>-0.01496</td><td>0.011291</td></tr><tr><td>&quot;Bachelor of Science (Design an…</td><td>&quot;We redefine design, education …</td><td>&quot;Design Innovator, Innovation S…</td><td>&quot;Applied machine learning engin…</td><td>0.008688</td><td>0.073831</td><td>-0.001575</td><td>-0.019872</td><td>0.072993</td><td>-0.020747</td><td>-0.047765</td><td>0.055445</td><td>0.039928</td><td>0.026293</td><td>-0.038317</td><td>0.061855</td><td>0.03594</td><td>0.058757</td><td>-0.019072</td><td>-0.007374</td><td>-0.070987</td><td>0.046221</td><td>-0.091606</td><td>-0.016127</td><td>-0.057109</td><td>-0.007607</td><td>0.04641</td><td>0.015605</td><td>-0.046362</td><td>-0.002131</td><td>-0.013758</td><td>-0.08543</td><td>-0.019007</td><td>-0.101654</td><td>0.020909</td><td>-0.005497</td><td>0.073397</td><td>&hellip;</td><td>-0.142052</td><td>-0.079459</td><td>0.046863</td><td>-0.048138</td><td>-0.029805</td><td>0.02204</td><td>-0.065869</td><td>0.061562</td><td>0.041655</td><td>0.078366</td><td>-0.052761</td><td>-0.016331</td><td>0.058321</td><td>-0.03086</td><td>-0.028564</td><td>-0.003789</td><td>0.028875</td><td>-0.059937</td><td>-0.023534</td><td>0.023275</td><td>0.044316</td><td>0.048135</td><td>0.004569</td><td>-0.010517</td><td>0.023734</td><td>-0.064008</td><td>-0.031336</td><td>0.043148</td><td>0.007398</td><td>0.016269</td><td>-0.074874</td><td>-0.038615</td><td>-0.0072</td><td>0.016288</td><td>-0.04307</td><td>-0.00001</td><td>0.054929</td></tr><tr><td>&quot;Bachelor of Engineering (Engin…</td><td>&quot;We redefine design, education …</td><td>&quot;EPD graduates are prepared for…</td><td>&quot;Design engineer, Management co…</td><td>0.008688</td><td>0.073831</td><td>-0.001575</td><td>-0.019872</td><td>0.072993</td><td>-0.020747</td><td>-0.047765</td><td>0.055445</td><td>0.039928</td><td>0.026293</td><td>-0.038317</td><td>0.061855</td><td>0.03594</td><td>0.058757</td><td>-0.019072</td><td>-0.007374</td><td>-0.070987</td><td>0.046221</td><td>-0.091606</td><td>-0.016127</td><td>-0.057109</td><td>-0.007607</td><td>0.04641</td><td>0.015605</td><td>-0.046362</td><td>-0.002131</td><td>-0.013758</td><td>-0.08543</td><td>-0.019007</td><td>-0.101654</td><td>0.020909</td><td>-0.005497</td><td>0.073397</td><td>&hellip;</td><td>-0.053818</td><td>0.019443</td><td>0.028768</td><td>-0.035129</td><td>-0.076873</td><td>0.014707</td><td>-0.008818</td><td>0.084705</td><td>0.018786</td><td>0.040485</td><td>-0.023456</td><td>0.009289</td><td>0.078328</td><td>-0.038854</td><td>-0.041092</td><td>0.019104</td><td>0.092138</td><td>-0.046076</td><td>-0.022011</td><td>0.028995</td><td>0.051494</td><td>-0.023445</td><td>-0.027222</td><td>-0.036606</td><td>0.04873</td><td>-0.096139</td><td>-0.048537</td><td>-0.000802</td><td>0.027007</td><td>0.027413</td><td>-0.080297</td><td>-0.06496</td><td>0.012409</td><td>-0.030039</td><td>-0.005808</td><td>0.011818</td><td>0.037206</td></tr><tr><td>&quot;Bachelor of Engineering (Engin…</td><td>&quot;We redefine design, education …</td><td>&quot;How do you decide what company…</td><td>&quot;Aviation analyst, Corporate pl…</td><td>0.008688</td><td>0.073831</td><td>-0.001575</td><td>-0.019872</td><td>0.072993</td><td>-0.020747</td><td>-0.047765</td><td>0.055445</td><td>0.039928</td><td>0.026293</td><td>-0.038317</td><td>0.061855</td><td>0.03594</td><td>0.058757</td><td>-0.019072</td><td>-0.007374</td><td>-0.070987</td><td>0.046221</td><td>-0.091606</td><td>-0.016127</td><td>-0.057109</td><td>-0.007607</td><td>0.04641</td><td>0.015605</td><td>-0.046362</td><td>-0.002131</td><td>-0.013758</td><td>-0.08543</td><td>-0.019007</td><td>-0.101654</td><td>0.020909</td><td>-0.005497</td><td>0.073397</td><td>&hellip;</td><td>-0.058224</td><td>0.070172</td><td>0.123533</td><td>-0.05206</td><td>-0.018332</td><td>0.076654</td><td>-0.050974</td><td>0.017989</td><td>0.013138</td><td>0.06135</td><td>-0.094412</td><td>-0.046258</td><td>0.027124</td><td>-0.054483</td><td>-0.018107</td><td>-0.004712</td><td>0.021044</td><td>0.013023</td><td>-0.048342</td><td>0.022985</td><td>0.095141</td><td>-0.019784</td><td>-0.064584</td><td>0.03934</td><td>0.008391</td><td>-0.056002</td><td>-0.027204</td><td>0.06688</td><td>0.022716</td><td>0.044394</td><td>-0.0651</td><td>-0.037663</td><td>0.03175</td><td>0.001535</td><td>-0.085693</td><td>-0.022966</td><td>0.036371</td></tr><tr><td>&quot;Bachelor of Business Administr…</td><td>&quot;The National University of Sin…</td><td>&quot;Business students may freely c…</td><td>&quot;Banking and finance (Investmen…</td><td>0.009139</td><td>0.036083</td><td>0.054055</td><td>0.001143</td><td>-0.014778</td><td>-0.016492</td><td>0.040939</td><td>-0.035118</td><td>-0.031403</td><td>0.014929</td><td>-0.04476</td><td>-0.003942</td><td>0.03123</td><td>0.002886</td><td>-0.062778</td><td>0.012071</td><td>-0.061091</td><td>-0.029156</td><td>-0.037463</td><td>-0.104024</td><td>-0.05903</td><td>-0.018552</td><td>-0.009929</td><td>-0.017176</td><td>-0.093859</td><td>-0.019214</td><td>0.033003</td><td>-0.034843</td><td>0.022614</td><td>-0.070795</td><td>-0.05992</td><td>0.042112</td><td>0.030304</td><td>&hellip;</td><td>-0.085087</td><td>0.048109</td><td>-0.028106</td><td>-0.001869</td><td>-0.073819</td><td>0.009871</td><td>-0.082554</td><td>-0.04703</td><td>0.062399</td><td>0.048198</td><td>-0.051841</td><td>-0.033412</td><td>0.023902</td><td>-0.036167</td><td>-0.093855</td><td>0.032639</td><td>-0.010909</td><td>0.012869</td><td>-0.016077</td><td>-0.075143</td><td>0.083769</td><td>0.00766</td><td>-0.085733</td><td>-0.089671</td><td>0.095492</td><td>-0.010754</td><td>-0.078959</td><td>0.037602</td><td>0.000548</td><td>0.035271</td><td>-0.103324</td><td>0.010364</td><td>0.015658</td><td>-0.00361</td><td>-0.067677</td><td>0.077502</td><td>0.034874</td></tr><tr><td>&quot;Bachelor of Business Administr…</td><td>&quot;The National University of Sin…</td><td>&quot;To develop ACE (Adaptive, Comp…</td><td>&quot;Accountant, Auditor, Forensic …</td><td>0.009139</td><td>0.036083</td><td>0.054055</td><td>0.001143</td><td>-0.014778</td><td>-0.016492</td><td>0.040939</td><td>-0.035118</td><td>-0.031403</td><td>0.014929</td><td>-0.04476</td><td>-0.003942</td><td>0.03123</td><td>0.002886</td><td>-0.062778</td><td>0.012071</td><td>-0.061091</td><td>-0.029156</td><td>-0.037463</td><td>-0.104024</td><td>-0.05903</td><td>-0.018552</td><td>-0.009929</td><td>-0.017176</td><td>-0.093859</td><td>-0.019214</td><td>0.033003</td><td>-0.034843</td><td>0.022614</td><td>-0.070795</td><td>-0.05992</td><td>0.042112</td><td>0.030304</td><td>&hellip;</td><td>0.029897</td><td>0.016619</td><td>0.080118</td><td>-0.04329</td><td>0.006525</td><td>0.060303</td><td>-0.026566</td><td>-0.033427</td><td>0.046915</td><td>0.034251</td><td>-0.065573</td><td>-0.012529</td><td>0.059662</td><td>-0.030904</td><td>-0.11715</td><td>0.009512</td><td>-0.011068</td><td>-0.004182</td><td>-0.027847</td><td>-0.021317</td><td>0.02901</td><td>0.093743</td><td>-0.04398</td><td>-0.005743</td><td>-0.044037</td><td>-0.019079</td><td>-0.040486</td><td>0.026049</td><td>-0.01235</td><td>0.035928</td><td>0.00609</td><td>-0.037666</td><td>-0.041351</td><td>0.140603</td><td>-0.029335</td><td>0.059117</td><td>0.02594</td></tr><tr><td>&quot;Bachelor of Business Administr…</td><td>&quot;The National University of Sin…</td><td>&quot;The Real Estate major trains r…</td><td>&quot;Real Estate Finance &amp; Investme…</td><td>0.009139</td><td>0.036083</td><td>0.054055</td><td>0.001143</td><td>-0.014778</td><td>-0.016492</td><td>0.040939</td><td>-0.035118</td><td>-0.031403</td><td>0.014929</td><td>-0.04476</td><td>-0.003942</td><td>0.03123</td><td>0.002886</td><td>-0.062778</td><td>0.012071</td><td>-0.061091</td><td>-0.029156</td><td>-0.037463</td><td>-0.104024</td><td>-0.05903</td><td>-0.018552</td><td>-0.009929</td><td>-0.017176</td><td>-0.093859</td><td>-0.019214</td><td>0.033003</td><td>-0.034843</td><td>0.022614</td><td>-0.070795</td><td>-0.05992</td><td>0.042112</td><td>0.030304</td><td>&hellip;</td><td>-0.038038</td><td>-0.002214</td><td>0.025676</td><td>0.074059</td><td>-0.05528</td><td>0.06259</td><td>-0.024841</td><td>-0.015211</td><td>0.070495</td><td>0.085676</td><td>-0.003393</td><td>0.050261</td><td>0.049009</td><td>-0.051261</td><td>-0.078895</td><td>-0.015538</td><td>-0.009249</td><td>-0.081415</td><td>-0.034593</td><td>-0.011381</td><td>0.047812</td><td>0.043998</td><td>-0.100283</td><td>-0.026929</td><td>0.053823</td><td>-0.060293</td><td>-0.077861</td><td>0.040434</td><td>0.022113</td><td>0.015271</td><td>-0.026126</td><td>-0.020832</td><td>0.002496</td><td>0.028062</td><td>-0.023599</td><td>0.026236</td><td>0.069808</td></tr><tr><td>&quot;Bachelor of Science (Business …</td><td>&quot;The National University of Sin…</td><td>&quot;Today’s businesses run on data…</td><td>&quot;Web Analyst, IT Business Analy…</td><td>0.009139</td><td>0.036083</td><td>0.054055</td><td>0.001143</td><td>-0.014778</td><td>-0.016492</td><td>0.040939</td><td>-0.035118</td><td>-0.031403</td><td>0.014929</td><td>-0.04476</td><td>-0.003942</td><td>0.03123</td><td>0.002886</td><td>-0.062778</td><td>0.012071</td><td>-0.061091</td><td>-0.029156</td><td>-0.037463</td><td>-0.104024</td><td>-0.05903</td><td>-0.018552</td><td>-0.009929</td><td>-0.017176</td><td>-0.093859</td><td>-0.019214</td><td>0.033003</td><td>-0.034843</td><td>0.022614</td><td>-0.070795</td><td>-0.05992</td><td>0.042112</td><td>0.030304</td><td>&hellip;</td><td>-0.057778</td><td>0.005684</td><td>0.086693</td><td>-0.038929</td><td>-0.03531</td><td>0.018871</td><td>-0.059059</td><td>0.034181</td><td>0.081802</td><td>0.036504</td><td>-0.079147</td><td>-0.019138</td><td>0.031406</td><td>-0.012363</td><td>0.004309</td><td>-0.018529</td><td>0.005896</td><td>-0.011488</td><td>-0.03588</td><td>0.038303</td><td>0.096735</td><td>0.027078</td><td>-0.049035</td><td>-0.002145</td><td>0.037736</td><td>-0.040229</td><td>-0.027385</td><td>0.040238</td><td>0.017687</td><td>0.046302</td><td>-0.068704</td><td>-0.049406</td><td>0.057866</td><td>0.056518</td><td>-0.141913</td><td>0.036407</td><td>0.062252</td></tr><tr><td>&quot;Bachelor of Engineering (Compu…</td><td>&quot;The National University of Sin…</td><td>&quot;The Computer Engineering progr…</td><td>&quot;Applications Developer, Enterp…</td><td>0.009139</td><td>0.036083</td><td>0.054055</td><td>0.001143</td><td>-0.014778</td><td>-0.016492</td><td>0.040939</td><td>-0.035118</td><td>-0.031403</td><td>0.014929</td><td>-0.04476</td><td>-0.003942</td><td>0.03123</td><td>0.002886</td><td>-0.062778</td><td>0.012071</td><td>-0.061091</td><td>-0.029156</td><td>-0.037463</td><td>-0.104024</td><td>-0.05903</td><td>-0.018552</td><td>-0.009929</td><td>-0.017176</td><td>-0.093859</td><td>-0.019214</td><td>0.033003</td><td>-0.034843</td><td>0.022614</td><td>-0.070795</td><td>-0.05992</td><td>0.042112</td><td>0.030304</td><td>&hellip;</td><td>-0.050367</td><td>0.030243</td><td>0.096364</td><td>-0.02935</td><td>0.041657</td><td>-0.028676</td><td>-0.000767</td><td>0.045362</td><td>0.004422</td><td>0.062521</td><td>-0.030232</td><td>-0.067152</td><td>0.016566</td><td>-0.023406</td><td>0.014643</td><td>0.061017</td><td>0.02571</td><td>-0.086525</td><td>-0.007231</td><td>0.005687</td><td>0.065668</td><td>0.020748</td><td>-0.048945</td><td>0.018505</td><td>0.018132</td><td>-0.052968</td><td>-0.063045</td><td>0.032584</td><td>0.013498</td><td>0.041779</td><td>-0.020279</td><td>-0.060189</td><td>-0.012565</td><td>0.079375</td><td>-0.076824</td><td>0.047114</td><td>0.068188</td></tr></tbody></table></div>"
      ],
      "text/plain": [
       "shape: (10, 1_156)\n",
       "┌───────────┬───────────┬───────────┬───────────┬───┬───────────┬───────────┬───────────┬──────────┐\n",
       "│ program   ┆ universit ┆ program_d ┆ career_pr ┆ … ┆ career_pr ┆ career_pr ┆ career_pr ┆ career_p │\n",
       "│ ---       ┆ y_descrip ┆ escriptio ┆ ospect    ┆   ┆ ospect_em ┆ ospect_em ┆ ospect_em ┆ rospect_ │\n",
       "│ str       ┆ tion      ┆ n         ┆ ---       ┆   ┆ beded_380 ┆ beded_381 ┆ beded_382 ┆ embeded_ │\n",
       "│           ┆ ---       ┆ ---       ┆ str       ┆   ┆ ---       ┆ ---       ┆ ---       ┆ 383      │\n",
       "│           ┆ str       ┆ str       ┆           ┆   ┆ f64       ┆ f64       ┆ f64       ┆ ---      │\n",
       "│           ┆           ┆           ┆           ┆   ┆           ┆           ┆           ┆ f64      │\n",
       "╞═══════════╪═══════════╪═══════════╪═══════════╪═══╪═══════════╪═══════════╪═══════════╪══════════╡\n",
       "│ Bachelor  ┆ We        ┆ The Under ┆ Architect ┆ … ┆ 0.091465  ┆ 0.040404  ┆ -0.01252  ┆ 0.078221 │\n",
       "│ of        ┆ redefine  ┆ graduate  ┆ ure,      ┆   ┆           ┆           ┆           ┆          │\n",
       "│ Science   ┆ design,   ┆ programme ┆ Urban     ┆   ┆           ┆           ┆           ┆          │\n",
       "│ (Architec ┆ education ┆ co…       ┆ design,   ┆   ┆           ┆           ┆           ┆          │\n",
       "│ t…        ┆ …         ┆           ┆ Ci…       ┆   ┆           ┆           ┆           ┆          │\n",
       "│ Bachelor  ┆ We        ┆ Lead a    ┆ Cybersecu ┆ … ┆ 0.000391  ┆ -0.078492 ┆ -0.01496  ┆ 0.011291 │\n",
       "│ of Engine ┆ redefine  ┆ successfu ┆ rity spec ┆   ┆           ┆           ┆           ┆          │\n",
       "│ ering     ┆ design,   ┆ l profess ┆ ialist/an ┆   ┆           ┆           ┆           ┆          │\n",
       "│ (Compu…   ┆ education ┆ ional…    ┆ aly…      ┆   ┆           ┆           ┆           ┆          │\n",
       "│           ┆ …         ┆           ┆           ┆   ┆           ┆           ┆           ┆          │\n",
       "│ Bachelor  ┆ We        ┆ Design    ┆ Applied   ┆ … ┆ 0.016288  ┆ -0.04307  ┆ -0.00001  ┆ 0.054929 │\n",
       "│ of        ┆ redefine  ┆ Innovator ┆ machine   ┆   ┆           ┆           ┆           ┆          │\n",
       "│ Science   ┆ design,   ┆ , Innovat ┆ learning  ┆   ┆           ┆           ┆           ┆          │\n",
       "│ (Design   ┆ education ┆ ion S…    ┆ engin…    ┆   ┆           ┆           ┆           ┆          │\n",
       "│ an…       ┆ …         ┆           ┆           ┆   ┆           ┆           ┆           ┆          │\n",
       "│ Bachelor  ┆ We        ┆ EPD       ┆ Design    ┆ … ┆ -0.030039 ┆ -0.005808 ┆ 0.011818  ┆ 0.037206 │\n",
       "│ of Engine ┆ redefine  ┆ graduates ┆ engineer, ┆   ┆           ┆           ┆           ┆          │\n",
       "│ ering     ┆ design,   ┆ are       ┆ Managemen ┆   ┆           ┆           ┆           ┆          │\n",
       "│ (Engin…   ┆ education ┆ prepared  ┆ t co…     ┆   ┆           ┆           ┆           ┆          │\n",
       "│           ┆ …         ┆ for…      ┆           ┆   ┆           ┆           ┆           ┆          │\n",
       "│ Bachelor  ┆ We        ┆ How do    ┆ Aviation  ┆ … ┆ 0.001535  ┆ -0.085693 ┆ -0.022966 ┆ 0.036371 │\n",
       "│ of Engine ┆ redefine  ┆ you       ┆ analyst,  ┆   ┆           ┆           ┆           ┆          │\n",
       "│ ering     ┆ design,   ┆ decide    ┆ Corporate ┆   ┆           ┆           ┆           ┆          │\n",
       "│ (Engin…   ┆ education ┆ what      ┆ pl…       ┆   ┆           ┆           ┆           ┆          │\n",
       "│           ┆ …         ┆ company…  ┆           ┆   ┆           ┆           ┆           ┆          │\n",
       "│ Bachelor  ┆ The       ┆ Business  ┆ Banking   ┆ … ┆ -0.00361  ┆ -0.067677 ┆ 0.077502  ┆ 0.034874 │\n",
       "│ of        ┆ National  ┆ students  ┆ and       ┆   ┆           ┆           ┆           ┆          │\n",
       "│ Business  ┆ Universit ┆ may       ┆ finance   ┆   ┆           ┆           ┆           ┆          │\n",
       "│ Administr ┆ y of Sin… ┆ freely c… ┆ (Investme ┆   ┆           ┆           ┆           ┆          │\n",
       "│ …         ┆           ┆           ┆ n…        ┆   ┆           ┆           ┆           ┆          │\n",
       "│ Bachelor  ┆ The       ┆ To        ┆ Accountan ┆ … ┆ 0.140603  ┆ -0.029335 ┆ 0.059117  ┆ 0.02594  │\n",
       "│ of        ┆ National  ┆ develop   ┆ t,        ┆   ┆           ┆           ┆           ┆          │\n",
       "│ Business  ┆ Universit ┆ ACE (Adap ┆ Auditor,  ┆   ┆           ┆           ┆           ┆          │\n",
       "│ Administr ┆ y of Sin… ┆ tive,     ┆ Forensic  ┆   ┆           ┆           ┆           ┆          │\n",
       "│ …         ┆           ┆ Comp…     ┆ …         ┆   ┆           ┆           ┆           ┆          │\n",
       "│ Bachelor  ┆ The       ┆ The Real  ┆ Real      ┆ … ┆ 0.028062  ┆ -0.023599 ┆ 0.026236  ┆ 0.069808 │\n",
       "│ of        ┆ National  ┆ Estate    ┆ Estate    ┆   ┆           ┆           ┆           ┆          │\n",
       "│ Business  ┆ Universit ┆ major     ┆ Finance & ┆   ┆           ┆           ┆           ┆          │\n",
       "│ Administr ┆ y of Sin… ┆ trains r… ┆ Investme… ┆   ┆           ┆           ┆           ┆          │\n",
       "│ …         ┆           ┆           ┆           ┆   ┆           ┆           ┆           ┆          │\n",
       "│ Bachelor  ┆ The       ┆ Today’s   ┆ Web       ┆ … ┆ 0.056518  ┆ -0.141913 ┆ 0.036407  ┆ 0.062252 │\n",
       "│ of        ┆ National  ┆ businesse ┆ Analyst,  ┆   ┆           ┆           ┆           ┆          │\n",
       "│ Science   ┆ Universit ┆ s run on  ┆ IT        ┆   ┆           ┆           ┆           ┆          │\n",
       "│ (Business ┆ y of Sin… ┆ data…     ┆ Business  ┆   ┆           ┆           ┆           ┆          │\n",
       "│ …         ┆           ┆           ┆ Analy…    ┆   ┆           ┆           ┆           ┆          │\n",
       "│ Bachelor  ┆ The       ┆ The       ┆ Applicati ┆ … ┆ 0.079375  ┆ -0.076824 ┆ 0.047114  ┆ 0.068188 │\n",
       "│ of Engine ┆ National  ┆ Computer  ┆ ons Devel ┆   ┆           ┆           ┆           ┆          │\n",
       "│ ering     ┆ Universit ┆ Engineeri ┆ oper,     ┆   ┆           ┆           ┆           ┆          │\n",
       "│ (Compu…   ┆ y of Sin… ┆ ng progr… ┆ Enterp…   ┆   ┆           ┆           ┆           ┆          │\n",
       "└───────────┴───────────┴───────────┴───────────┴───┴───────────┴───────────┴───────────┴──────────┘"
      ]
     },
     "execution_count": 6,
     "metadata": {},
     "output_type": "execute_result"
    }
   ],
   "source": [
    "df.head(10)"
   ]
  },
  {
   "cell_type": "code",
   "execution_count": 8,
   "metadata": {},
   "outputs": [],
   "source": [
    "df.write_parquet('data/processed/embedded_university_and_progam.parquet')\n",
    "df.write_parquet('app/data/embedded_university_and_progam.parquet')\n",
    "df.write_csv('data/processed/embedded_university_and_progam.csv')"
   ]
  }
 ],
 "metadata": {
  "kernelspec": {
   "display_name": "Python 3",
   "language": "python",
   "name": "python3"
  },
  "language_info": {
   "codemirror_mode": {
    "name": "ipython",
    "version": 3
   },
   "file_extension": ".py",
   "mimetype": "text/x-python",
   "name": "python",
   "nbconvert_exporter": "python",
   "pygments_lexer": "ipython3",
   "version": "3.11.9"
  }
 },
 "nbformat": 4,
 "nbformat_minor": 2
}
