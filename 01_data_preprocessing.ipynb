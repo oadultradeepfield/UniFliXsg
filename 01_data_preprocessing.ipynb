{
 "cells": [
  {
   "cell_type": "code",
   "execution_count": 1,
   "metadata": {},
   "outputs": [],
   "source": [
    "import polars as pl"
   ]
  },
  {
   "cell_type": "code",
   "execution_count": 2,
   "metadata": {},
   "outputs": [],
   "source": [
    "df_university = pl.read_excel('data/university.xlsx')\n",
    "df_program = pl.read_excel('data/undergraduate_program.xlsx')"
   ]
  },
  {
   "cell_type": "code",
   "execution_count": 3,
   "metadata": {},
   "outputs": [
    {
     "data": {
      "text/html": [
       "<div><style>\n",
       ".dataframe > thead > tr,\n",
       ".dataframe > tbody > tr {\n",
       "  text-align: right;\n",
       "  white-space: pre-wrap;\n",
       "}\n",
       "</style>\n",
       "<small>shape: (4, 4)</small><table border=\"1\" class=\"dataframe\"><thead><tr><th>No.</th><th>University</th><th>Abbreviation</th><th>University Description</th></tr><tr><td>i64</td><td>str</td><td>str</td><td>str</td></tr></thead><tbody><tr><td>1</td><td>&quot;National University of Singapo…</td><td>&quot;NUS&quot;</td><td>&quot;The National University of Sin…</td></tr><tr><td>2</td><td>&quot;Nanyang Technological Universi…</td><td>&quot;NTU&quot;</td><td>&quot;A research-intensive public un…</td></tr><tr><td>3</td><td>&quot;Singapore Management Universit…</td><td>&quot;SMU&quot;</td><td>&quot;SMU&#x27;s mission is to generate l…</td></tr><tr><td>4</td><td>&quot;Singapore University of Techno…</td><td>&quot;SUTD&quot;</td><td>&quot;We redefine design, education …</td></tr></tbody></table></div>"
      ],
      "text/plain": [
       "shape: (4, 4)\n",
       "┌─────┬─────────────────────────────────┬──────────────┬─────────────────────────────────┐\n",
       "│ No. ┆ University                      ┆ Abbreviation ┆ University Description          │\n",
       "│ --- ┆ ---                             ┆ ---          ┆ ---                             │\n",
       "│ i64 ┆ str                             ┆ str          ┆ str                             │\n",
       "╞═════╪═════════════════════════════════╪══════════════╪═════════════════════════════════╡\n",
       "│ 1   ┆ National University of Singapo… ┆ NUS          ┆ The National University of Sin… │\n",
       "│ 2   ┆ Nanyang Technological Universi… ┆ NTU          ┆ A research-intensive public un… │\n",
       "│ 3   ┆ Singapore Management Universit… ┆ SMU          ┆ SMU's mission is to generate l… │\n",
       "│ 4   ┆ Singapore University of Techno… ┆ SUTD         ┆ We redefine design, education … │\n",
       "└─────┴─────────────────────────────────┴──────────────┴─────────────────────────────────┘"
      ]
     },
     "execution_count": 3,
     "metadata": {},
     "output_type": "execute_result"
    }
   ],
   "source": [
    "df_university.head(5)"
   ]
  },
  {
   "cell_type": "code",
   "execution_count": 4,
   "metadata": {},
   "outputs": [
    {
     "data": {
      "text/html": [
       "<div><style>\n",
       ".dataframe > thead > tr,\n",
       ".dataframe > tbody > tr {\n",
       "  text-align: right;\n",
       "  white-space: pre-wrap;\n",
       "}\n",
       "</style>\n",
       "<small>shape: (5, 5)</small><table border=\"1\" class=\"dataframe\"><thead><tr><th>No.</th><th>University</th><th>Program</th><th>Program Description</th><th>Career Prospect</th></tr><tr><td>i64</td><td>str</td><td>str</td><td>str</td><td>str</td></tr></thead><tbody><tr><td>1</td><td>&quot;SUTD&quot;</td><td>&quot;Bachelor of Science (Architect…</td><td>&quot;The Undergraduate programme co…</td><td>&quot;Architecture, Urban design, Ci…</td></tr><tr><td>2</td><td>&quot;SUTD&quot;</td><td>&quot;Bachelor of Engineering (Compu…</td><td>&quot;Lead a successful professional…</td><td>&quot;Cybersecurity specialist/analy…</td></tr><tr><td>3</td><td>&quot;SUTD&quot;</td><td>&quot;Bachelor of Science (Design an…</td><td>&quot;Design Innovator, Innovation S…</td><td>&quot;Applied machine learning engin…</td></tr><tr><td>4</td><td>&quot;SUTD&quot;</td><td>&quot;Bachelor of Engineering (Engin…</td><td>&quot;EPD graduates are prepared for…</td><td>&quot;Design engineer, Management co…</td></tr><tr><td>5</td><td>&quot;SUTD&quot;</td><td>&quot;Bachelor of Engineering (Engin…</td><td>&quot;How do you decide what company…</td><td>&quot;Aviation analyst, Corporate pl…</td></tr></tbody></table></div>"
      ],
      "text/plain": [
       "shape: (5, 5)\n",
       "┌─────┬────────────┬─────────────────────────┬───────────────────────────────┬─────────────────────┐\n",
       "│ No. ┆ University ┆ Program                 ┆ Program Description           ┆ Career Prospect     │\n",
       "│ --- ┆ ---        ┆ ---                     ┆ ---                           ┆ ---                 │\n",
       "│ i64 ┆ str        ┆ str                     ┆ str                           ┆ str                 │\n",
       "╞═════╪════════════╪═════════════════════════╪═══════════════════════════════╪═════════════════════╡\n",
       "│ 1   ┆ SUTD       ┆ Bachelor of Science     ┆ The Undergraduate programme   ┆ Architecture, Urban │\n",
       "│     ┆            ┆ (Architect…             ┆ co…                           ┆ design, Ci…         │\n",
       "│ 2   ┆ SUTD       ┆ Bachelor of Engineering ┆ Lead a successful             ┆ Cybersecurity       │\n",
       "│     ┆            ┆ (Compu…                 ┆ professional…                 ┆ specialist/analy…   │\n",
       "│ 3   ┆ SUTD       ┆ Bachelor of Science     ┆ Design Innovator, Innovation  ┆ Applied machine     │\n",
       "│     ┆            ┆ (Design an…             ┆ S…                            ┆ learning engin…     │\n",
       "│ 4   ┆ SUTD       ┆ Bachelor of Engineering ┆ EPD graduates are prepared    ┆ Design engineer,    │\n",
       "│     ┆            ┆ (Engin…                 ┆ for…                          ┆ Management co…      │\n",
       "│ 5   ┆ SUTD       ┆ Bachelor of Engineering ┆ How do you decide what        ┆ Aviation analyst,   │\n",
       "│     ┆            ┆ (Engin…                 ┆ company…                      ┆ Corporate pl…       │\n",
       "└─────┴────────────┴─────────────────────────┴───────────────────────────────┴─────────────────────┘"
      ]
     },
     "execution_count": 4,
     "metadata": {},
     "output_type": "execute_result"
    }
   ],
   "source": [
    "df_program.head(5)"
   ]
  },
  {
   "cell_type": "code",
   "execution_count": 5,
   "metadata": {},
   "outputs": [],
   "source": [
    "df_program = df_program.select(['University', 'Program', 'Program Description', 'Career Prospect'])\n",
    "df_program = df_program.rename({'University': 'Abbreviation'})\n",
    "df_combined = df_program.join(df_university, on='Abbreviation', how='full')"
   ]
  },
  {
   "cell_type": "code",
   "execution_count": 6,
   "metadata": {},
   "outputs": [
    {
     "data": {
      "text/html": [
       "<div><style>\n",
       ".dataframe > thead > tr,\n",
       ".dataframe > tbody > tr {\n",
       "  text-align: right;\n",
       "  white-space: pre-wrap;\n",
       "}\n",
       "</style>\n",
       "<small>shape: (5, 8)</small><table border=\"1\" class=\"dataframe\"><thead><tr><th>Abbreviation</th><th>Program</th><th>Program Description</th><th>Career Prospect</th><th>No.</th><th>University</th><th>Abbreviation_right</th><th>University Description</th></tr><tr><td>str</td><td>str</td><td>str</td><td>str</td><td>i64</td><td>str</td><td>str</td><td>str</td></tr></thead><tbody><tr><td>&quot;SUTD&quot;</td><td>&quot;Bachelor of Science (Architect…</td><td>&quot;The Undergraduate programme co…</td><td>&quot;Architecture, Urban design, Ci…</td><td>4</td><td>&quot;Singapore University of Techno…</td><td>&quot;SUTD&quot;</td><td>&quot;We redefine design, education …</td></tr><tr><td>&quot;SUTD&quot;</td><td>&quot;Bachelor of Engineering (Compu…</td><td>&quot;Lead a successful professional…</td><td>&quot;Cybersecurity specialist/analy…</td><td>4</td><td>&quot;Singapore University of Techno…</td><td>&quot;SUTD&quot;</td><td>&quot;We redefine design, education …</td></tr><tr><td>&quot;SUTD&quot;</td><td>&quot;Bachelor of Science (Design an…</td><td>&quot;Design Innovator, Innovation S…</td><td>&quot;Applied machine learning engin…</td><td>4</td><td>&quot;Singapore University of Techno…</td><td>&quot;SUTD&quot;</td><td>&quot;We redefine design, education …</td></tr><tr><td>&quot;SUTD&quot;</td><td>&quot;Bachelor of Engineering (Engin…</td><td>&quot;EPD graduates are prepared for…</td><td>&quot;Design engineer, Management co…</td><td>4</td><td>&quot;Singapore University of Techno…</td><td>&quot;SUTD&quot;</td><td>&quot;We redefine design, education …</td></tr><tr><td>&quot;SUTD&quot;</td><td>&quot;Bachelor of Engineering (Engin…</td><td>&quot;How do you decide what company…</td><td>&quot;Aviation analyst, Corporate pl…</td><td>4</td><td>&quot;Singapore University of Techno…</td><td>&quot;SUTD&quot;</td><td>&quot;We redefine design, education …</td></tr></tbody></table></div>"
      ],
      "text/plain": [
       "shape: (5, 8)\n",
       "┌─────────────┬─────────────┬────────────┬────────────┬─────┬────────────┬────────────┬────────────┐\n",
       "│ Abbreviatio ┆ Program     ┆ Program    ┆ Career     ┆ No. ┆ University ┆ Abbreviati ┆ University │\n",
       "│ n           ┆ ---         ┆ Descriptio ┆ Prospect   ┆ --- ┆ ---        ┆ on_right   ┆ Descriptio │\n",
       "│ ---         ┆ str         ┆ n          ┆ ---        ┆ i64 ┆ str        ┆ ---        ┆ n          │\n",
       "│ str         ┆             ┆ ---        ┆ str        ┆     ┆            ┆ str        ┆ ---        │\n",
       "│             ┆             ┆ str        ┆            ┆     ┆            ┆            ┆ str        │\n",
       "╞═════════════╪═════════════╪════════════╪════════════╪═════╪════════════╪════════════╪════════════╡\n",
       "│ SUTD        ┆ Bachelor of ┆ The Underg ┆ Architectu ┆ 4   ┆ Singapore  ┆ SUTD       ┆ We         │\n",
       "│             ┆ Science     ┆ raduate    ┆ re, Urban  ┆     ┆ University ┆            ┆ redefine   │\n",
       "│             ┆ (Architect… ┆ programme  ┆ design,    ┆     ┆ of Techno… ┆            ┆ design,    │\n",
       "│             ┆             ┆ co…        ┆ Ci…        ┆     ┆            ┆            ┆ education  │\n",
       "│             ┆             ┆            ┆            ┆     ┆            ┆            ┆ …          │\n",
       "│ SUTD        ┆ Bachelor of ┆ Lead a     ┆ Cybersecur ┆ 4   ┆ Singapore  ┆ SUTD       ┆ We         │\n",
       "│             ┆ Engineering ┆ successful ┆ ity specia ┆     ┆ University ┆            ┆ redefine   │\n",
       "│             ┆ (Compu…     ┆ profession ┆ list/analy ┆     ┆ of Techno… ┆            ┆ design,    │\n",
       "│             ┆             ┆ al…        ┆ …          ┆     ┆            ┆            ┆ education  │\n",
       "│             ┆             ┆            ┆            ┆     ┆            ┆            ┆ …          │\n",
       "│ SUTD        ┆ Bachelor of ┆ Design     ┆ Applied    ┆ 4   ┆ Singapore  ┆ SUTD       ┆ We         │\n",
       "│             ┆ Science     ┆ Innovator, ┆ machine    ┆     ┆ University ┆            ┆ redefine   │\n",
       "│             ┆ (Design an… ┆ Innovation ┆ learning   ┆     ┆ of Techno… ┆            ┆ design,    │\n",
       "│             ┆             ┆ S…         ┆ engin…     ┆     ┆            ┆            ┆ education  │\n",
       "│             ┆             ┆            ┆            ┆     ┆            ┆            ┆ …          │\n",
       "│ SUTD        ┆ Bachelor of ┆ EPD        ┆ Design     ┆ 4   ┆ Singapore  ┆ SUTD       ┆ We         │\n",
       "│             ┆ Engineering ┆ graduates  ┆ engineer,  ┆     ┆ University ┆            ┆ redefine   │\n",
       "│             ┆ (Engin…     ┆ are        ┆ Management ┆     ┆ of Techno… ┆            ┆ design,    │\n",
       "│             ┆             ┆ prepared   ┆ co…        ┆     ┆            ┆            ┆ education  │\n",
       "│             ┆             ┆ for…       ┆            ┆     ┆            ┆            ┆ …          │\n",
       "│ SUTD        ┆ Bachelor of ┆ How do you ┆ Aviation   ┆ 4   ┆ Singapore  ┆ SUTD       ┆ We         │\n",
       "│             ┆ Engineering ┆ decide     ┆ analyst,   ┆     ┆ University ┆            ┆ redefine   │\n",
       "│             ┆ (Engin…     ┆ what       ┆ Corporate  ┆     ┆ of Techno… ┆            ┆ design,    │\n",
       "│             ┆             ┆ company…   ┆ pl…        ┆     ┆            ┆            ┆ education  │\n",
       "│             ┆             ┆            ┆            ┆     ┆            ┆            ┆ …          │\n",
       "└─────────────┴─────────────┴────────────┴────────────┴─────┴────────────┴────────────┴────────────┘"
      ]
     },
     "execution_count": 6,
     "metadata": {},
     "output_type": "execute_result"
    }
   ],
   "source": [
    "df_combined.head()"
   ]
  },
  {
   "cell_type": "code",
   "execution_count": 7,
   "metadata": {},
   "outputs": [],
   "source": [
    "df_combined = df_combined.with_columns(\n",
    "    pl.concat_str(\n",
    "        [\n",
    "            pl.col(\"Program\"),\n",
    "            pl.lit(\" at \"),\n",
    "            pl.col(\"University\"),\n",
    "            pl.lit(\" (\"),\n",
    "            pl.col(\"Abbreviation\"),\n",
    "            pl.lit(\") \")\n",
    "        ],\n",
    "        separator=\"\"\n",
    "    ).alias(\"Program at University\")\n",
    ")\n",
    "\n",
    "df_combined = df_combined.select(['Program at University', 'University Description', \n",
    "                                  'Program Description', 'Career Prospect'])"
   ]
  },
  {
   "cell_type": "code",
   "execution_count": 8,
   "metadata": {},
   "outputs": [],
   "source": [
    "df_combined.columns = ['program', 'university_description', 'program_description', 'career_prospect']"
   ]
  },
  {
   "cell_type": "code",
   "execution_count": 9,
   "metadata": {},
   "outputs": [
    {
     "data": {
      "text/html": [
       "<div><style>\n",
       ".dataframe > thead > tr,\n",
       ".dataframe > tbody > tr {\n",
       "  text-align: right;\n",
       "  white-space: pre-wrap;\n",
       "}\n",
       "</style>\n",
       "<small>shape: (10, 4)</small><table border=\"1\" class=\"dataframe\"><thead><tr><th>program</th><th>university_description</th><th>program_description</th><th>career_prospect</th></tr><tr><td>str</td><td>str</td><td>str</td><td>str</td></tr></thead><tbody><tr><td>&quot;Bachelor of Science (Architect…</td><td>&quot;We redefine design, education …</td><td>&quot;The Undergraduate programme co…</td><td>&quot;Architecture, Urban design, Ci…</td></tr><tr><td>&quot;Bachelor of Engineering (Compu…</td><td>&quot;We redefine design, education …</td><td>&quot;Lead a successful professional…</td><td>&quot;Cybersecurity specialist/analy…</td></tr><tr><td>&quot;Bachelor of Science (Design an…</td><td>&quot;We redefine design, education …</td><td>&quot;Design Innovator, Innovation S…</td><td>&quot;Applied machine learning engin…</td></tr><tr><td>&quot;Bachelor of Engineering (Engin…</td><td>&quot;We redefine design, education …</td><td>&quot;EPD graduates are prepared for…</td><td>&quot;Design engineer, Management co…</td></tr><tr><td>&quot;Bachelor of Engineering (Engin…</td><td>&quot;We redefine design, education …</td><td>&quot;How do you decide what company…</td><td>&quot;Aviation analyst, Corporate pl…</td></tr><tr><td>&quot;Bachelor of Business Administr…</td><td>&quot;The National University of Sin…</td><td>&quot;Business students may freely c…</td><td>&quot;Banking and finance (Investmen…</td></tr><tr><td>&quot;Bachelor of Business Administr…</td><td>&quot;The National University of Sin…</td><td>&quot;To develop ACE (Adaptive, Comp…</td><td>&quot;Accountant, Auditor, Forensic …</td></tr><tr><td>&quot;Bachelor of Business Administr…</td><td>&quot;The National University of Sin…</td><td>&quot;The Real Estate major trains r…</td><td>&quot;Real Estate Finance &amp; Investme…</td></tr><tr><td>&quot;Bachelor of Science (Business …</td><td>&quot;The National University of Sin…</td><td>&quot;Today’s businesses run on data…</td><td>&quot;Web Analyst, IT Business Analy…</td></tr><tr><td>&quot;Bachelor of Engineering (Compu…</td><td>&quot;The National University of Sin…</td><td>&quot;The Computer Engineering progr…</td><td>&quot;Applications Developer, Enterp…</td></tr></tbody></table></div>"
      ],
      "text/plain": [
       "shape: (10, 4)\n",
       "┌────────────────────────┬────────────────────────┬────────────────────────┬───────────────────────┐\n",
       "│ program                ┆ university_description ┆ program_description    ┆ career_prospect       │\n",
       "│ ---                    ┆ ---                    ┆ ---                    ┆ ---                   │\n",
       "│ str                    ┆ str                    ┆ str                    ┆ str                   │\n",
       "╞════════════════════════╪════════════════════════╪════════════════════════╪═══════════════════════╡\n",
       "│ Bachelor of Science    ┆ We redefine design,    ┆ The Undergraduate      ┆ Architecture, Urban   │\n",
       "│ (Architect…            ┆ education …            ┆ programme co…          ┆ design, Ci…           │\n",
       "│ Bachelor of            ┆ We redefine design,    ┆ Lead a successful      ┆ Cybersecurity         │\n",
       "│ Engineering (Compu…    ┆ education …            ┆ professional…          ┆ specialist/analy…     │\n",
       "│ Bachelor of Science    ┆ We redefine design,    ┆ Design Innovator,      ┆ Applied machine       │\n",
       "│ (Design an…            ┆ education …            ┆ Innovation S…          ┆ learning engin…       │\n",
       "│ Bachelor of            ┆ We redefine design,    ┆ EPD graduates are      ┆ Design engineer,      │\n",
       "│ Engineering (Engin…    ┆ education …            ┆ prepared for…          ┆ Management co…        │\n",
       "│ Bachelor of            ┆ We redefine design,    ┆ How do you decide what ┆ Aviation analyst,     │\n",
       "│ Engineering (Engin…    ┆ education …            ┆ company…               ┆ Corporate pl…         │\n",
       "│ Bachelor of Business   ┆ The National           ┆ Business students may  ┆ Banking and finance   │\n",
       "│ Administr…             ┆ University of Sin…     ┆ freely c…              ┆ (Investmen…           │\n",
       "│ Bachelor of Business   ┆ The National           ┆ To develop ACE         ┆ Accountant, Auditor,  │\n",
       "│ Administr…             ┆ University of Sin…     ┆ (Adaptive, Comp…       ┆ Forensic …            │\n",
       "│ Bachelor of Business   ┆ The National           ┆ The Real Estate major  ┆ Real Estate Finance & │\n",
       "│ Administr…             ┆ University of Sin…     ┆ trains r…              ┆ Investme…             │\n",
       "│ Bachelor of Science    ┆ The National           ┆ Today’s businesses run ┆ Web Analyst, IT       │\n",
       "│ (Business …            ┆ University of Sin…     ┆ on data…               ┆ Business Analy…       │\n",
       "│ Bachelor of            ┆ The National           ┆ The Computer           ┆ Applications          │\n",
       "│ Engineering (Compu…    ┆ University of Sin…     ┆ Engineering progr…     ┆ Developer, Enterp…    │\n",
       "└────────────────────────┴────────────────────────┴────────────────────────┴───────────────────────┘"
      ]
     },
     "execution_count": 9,
     "metadata": {},
     "output_type": "execute_result"
    }
   ],
   "source": [
    "df_combined.head(10)"
   ]
  },
  {
   "cell_type": "code",
   "execution_count": 11,
   "metadata": {},
   "outputs": [],
   "source": [
    "df_combined.write_parquet('data/processed/university_and_program.parquet')\n",
    "df_combined.write_csv('data/processed/university_and_program.csv')"
   ]
  }
 ],
 "metadata": {
  "kernelspec": {
   "display_name": "Python 3",
   "language": "python",
   "name": "python3"
  },
  "language_info": {
   "codemirror_mode": {
    "name": "ipython",
    "version": 3
   },
   "file_extension": ".py",
   "mimetype": "text/x-python",
   "name": "python",
   "nbconvert_exporter": "python",
   "pygments_lexer": "ipython3",
   "version": "3.11.9"
  }
 },
 "nbformat": 4,
 "nbformat_minor": 2
}
